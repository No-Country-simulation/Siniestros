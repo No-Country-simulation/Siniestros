{
 "cells": [
  {
   "cell_type": "code",
   "execution_count": 1,
   "metadata": {},
   "outputs": [],
   "source": [
    "import numpy as np\n",
    "import pandas as pd\n",
    "import matplotlib.pyplot as plt\n",
    "import seaborn as sns"
   ]
  },
  {
   "cell_type": "code",
   "execution_count": 2,
   "metadata": {},
   "outputs": [],
   "source": [
    "import warnings\n",
    "\n",
    "# Suprimir todas las advertencias\n",
    "warnings.filterwarnings(\"ignore\")"
   ]
  },
  {
   "cell_type": "code",
   "execution_count": 3,
   "metadata": {},
   "outputs": [
    {
     "data": {
      "text/html": [
       "<div>\n",
       "<style scoped>\n",
       "    .dataframe tbody tr th:only-of-type {\n",
       "        vertical-align: middle;\n",
       "    }\n",
       "\n",
       "    .dataframe tbody tr th {\n",
       "        vertical-align: top;\n",
       "    }\n",
       "\n",
       "    .dataframe thead th {\n",
       "        text-align: right;\n",
       "    }\n",
       "</style>\n",
       "<table border=\"1\" class=\"dataframe\">\n",
       "  <thead>\n",
       "    <tr style=\"text-align: right;\">\n",
       "      <th></th>\n",
       "      <th>ID</th>\n",
       "      <th>N_VICTIMAS</th>\n",
       "      <th>FECHA</th>\n",
       "      <th>AAAA</th>\n",
       "      <th>MM</th>\n",
       "      <th>DD</th>\n",
       "      <th>HORA</th>\n",
       "      <th>HH</th>\n",
       "      <th>LUGAR_DEL_HECHO</th>\n",
       "      <th>TIPO_DE_CALLE</th>\n",
       "      <th>...</th>\n",
       "      <th>Altura</th>\n",
       "      <th>Cruce</th>\n",
       "      <th>Dirección Normalizada</th>\n",
       "      <th>COMUNA</th>\n",
       "      <th>XY (CABA)</th>\n",
       "      <th>pos x</th>\n",
       "      <th>pos y</th>\n",
       "      <th>PARTICIPANTES</th>\n",
       "      <th>VICTIMA</th>\n",
       "      <th>ACUSADO</th>\n",
       "    </tr>\n",
       "  </thead>\n",
       "  <tbody>\n",
       "    <tr>\n",
       "      <th>690</th>\n",
       "      <td>2021-0092</td>\n",
       "      <td>1</td>\n",
       "      <td>2021-12-12</td>\n",
       "      <td>2021</td>\n",
       "      <td>12</td>\n",
       "      <td>12</td>\n",
       "      <td>06:20:00</td>\n",
       "      <td>6</td>\n",
       "      <td>AV. RIVADAVIA Y AV. PUEYRREDON</td>\n",
       "      <td>AVENIDA</td>\n",
       "      <td>...</td>\n",
       "      <td>NaN</td>\n",
       "      <td>PUEYRREDON AV.</td>\n",
       "      <td>RIVADAVIA AV. y PUEYRREDON AV.</td>\n",
       "      <td>3</td>\n",
       "      <td>Point (105258.35368554 102122.93231400)</td>\n",
       "      <td>-58.40596860</td>\n",
       "      <td>-34.61011987</td>\n",
       "      <td>PEATON-AUTO</td>\n",
       "      <td>PEATON</td>\n",
       "      <td>AUTO</td>\n",
       "    </tr>\n",
       "    <tr>\n",
       "      <th>691</th>\n",
       "      <td>2021-0093</td>\n",
       "      <td>1</td>\n",
       "      <td>2021-12-13</td>\n",
       "      <td>2021</td>\n",
       "      <td>12</td>\n",
       "      <td>13</td>\n",
       "      <td>17:10:00</td>\n",
       "      <td>17</td>\n",
       "      <td>AV. RIESTRA Y MOM</td>\n",
       "      <td>AVENIDA</td>\n",
       "      <td>...</td>\n",
       "      <td>NaN</td>\n",
       "      <td>MOM</td>\n",
       "      <td>RIESTRA AV. y MOM</td>\n",
       "      <td>7</td>\n",
       "      <td>Point (102728.60090138 98186.24929177)</td>\n",
       "      <td>-58.43353773</td>\n",
       "      <td>-34.64561636</td>\n",
       "      <td>MOTO-AUTO</td>\n",
       "      <td>MOTO</td>\n",
       "      <td>AUTO</td>\n",
       "    </tr>\n",
       "    <tr>\n",
       "      <th>692</th>\n",
       "      <td>2021-0094</td>\n",
       "      <td>1</td>\n",
       "      <td>2021-12-20</td>\n",
       "      <td>2021</td>\n",
       "      <td>12</td>\n",
       "      <td>20</td>\n",
       "      <td>01:10:00</td>\n",
       "      <td>1</td>\n",
       "      <td>AU DELLEPIANE Y LACARRA</td>\n",
       "      <td>AUTOPISTA</td>\n",
       "      <td>...</td>\n",
       "      <td>NaN</td>\n",
       "      <td>LACARRA AV.</td>\n",
       "      <td>DELLEPIANE, LUIS, TTE. GRAL. y LACARRA AV.</td>\n",
       "      <td>9</td>\n",
       "      <td>Point (99624.29795829 97569.69801131)</td>\n",
       "      <td>-58.46739825</td>\n",
       "      <td>-34.65117757</td>\n",
       "      <td>MOTO-AUTO</td>\n",
       "      <td>MOTO</td>\n",
       "      <td>AUTO</td>\n",
       "    </tr>\n",
       "    <tr>\n",
       "      <th>693</th>\n",
       "      <td>2021-0095</td>\n",
       "      <td>1</td>\n",
       "      <td>2021-12-30</td>\n",
       "      <td>2021</td>\n",
       "      <td>12</td>\n",
       "      <td>30</td>\n",
       "      <td>00:43:00</td>\n",
       "      <td>0</td>\n",
       "      <td>AV. GAONA Y TERRADA</td>\n",
       "      <td>AVENIDA</td>\n",
       "      <td>...</td>\n",
       "      <td>NaN</td>\n",
       "      <td>TERRADA</td>\n",
       "      <td>GAONA AV. y TERRADA</td>\n",
       "      <td>11</td>\n",
       "      <td>Point (99116.45492358 101045.23284826)</td>\n",
       "      <td>-58.47293407</td>\n",
       "      <td>-34.61984745</td>\n",
       "      <td>MOTO-CARGAS</td>\n",
       "      <td>MOTO</td>\n",
       "      <td>CARGAS</td>\n",
       "    </tr>\n",
       "    <tr>\n",
       "      <th>694</th>\n",
       "      <td>2021-0096</td>\n",
       "      <td>1</td>\n",
       "      <td>2021-12-15</td>\n",
       "      <td>2021</td>\n",
       "      <td>12</td>\n",
       "      <td>15</td>\n",
       "      <td>10:30:00</td>\n",
       "      <td>10</td>\n",
       "      <td>AV. EVA PERON 4071</td>\n",
       "      <td>AVENIDA</td>\n",
       "      <td>...</td>\n",
       "      <td>4071.0</td>\n",
       "      <td>NaN</td>\n",
       "      <td>PERON, EVA AV. 4071</td>\n",
       "      <td>9</td>\n",
       "      <td>Point (99324.54463985 97676.26932409)</td>\n",
       "      <td>-58.47066794</td>\n",
       "      <td>-34.65021673</td>\n",
       "      <td>AUTO-CARGAS</td>\n",
       "      <td>AUTO</td>\n",
       "      <td>CARGAS</td>\n",
       "    </tr>\n",
       "    <tr>\n",
       "      <th>695</th>\n",
       "      <td>2021-0097</td>\n",
       "      <td>1</td>\n",
       "      <td>2021-11-18</td>\n",
       "      <td>2021</td>\n",
       "      <td>11</td>\n",
       "      <td>18</td>\n",
       "      <td>06:10:00</td>\n",
       "      <td>6</td>\n",
       "      <td>PADRE CARLOS MUJICA 709</td>\n",
       "      <td>CALLE</td>\n",
       "      <td>...</td>\n",
       "      <td>709.0</td>\n",
       "      <td>NaN</td>\n",
       "      <td>PADRE CARLOS MUGICA 709</td>\n",
       "      <td>1</td>\n",
       "      <td>Point (107664.16647795 104708.63962087)</td>\n",
       "      <td>-58.37976155</td>\n",
       "      <td>-34.58679619</td>\n",
       "      <td>BICICLETA-AUTO</td>\n",
       "      <td>BICICLETA</td>\n",
       "      <td>AUTO</td>\n",
       "    </tr>\n",
       "  </tbody>\n",
       "</table>\n",
       "<p>6 rows × 21 columns</p>\n",
       "</div>"
      ],
      "text/plain": [
       "            ID  N_VICTIMAS      FECHA  AAAA  MM  DD      HORA  HH  \\\n",
       "690  2021-0092           1 2021-12-12  2021  12  12  06:20:00   6   \n",
       "691  2021-0093           1 2021-12-13  2021  12  13  17:10:00  17   \n",
       "692  2021-0094           1 2021-12-20  2021  12  20  01:10:00   1   \n",
       "693  2021-0095           1 2021-12-30  2021  12  30  00:43:00   0   \n",
       "694  2021-0096           1 2021-12-15  2021  12  15  10:30:00  10   \n",
       "695  2021-0097           1 2021-11-18  2021  11  18  06:10:00   6   \n",
       "\n",
       "                    LUGAR_DEL_HECHO TIPO_DE_CALLE  ...  Altura  \\\n",
       "690  AV. RIVADAVIA Y AV. PUEYRREDON       AVENIDA  ...     NaN   \n",
       "691               AV. RIESTRA Y MOM       AVENIDA  ...     NaN   \n",
       "692         AU DELLEPIANE Y LACARRA     AUTOPISTA  ...     NaN   \n",
       "693             AV. GAONA Y TERRADA       AVENIDA  ...     NaN   \n",
       "694              AV. EVA PERON 4071       AVENIDA  ...  4071.0   \n",
       "695         PADRE CARLOS MUJICA 709         CALLE  ...   709.0   \n",
       "\n",
       "              Cruce                       Dirección Normalizada COMUNA  \\\n",
       "690  PUEYRREDON AV.              RIVADAVIA AV. y PUEYRREDON AV.      3   \n",
       "691             MOM                           RIESTRA AV. y MOM      7   \n",
       "692     LACARRA AV.  DELLEPIANE, LUIS, TTE. GRAL. y LACARRA AV.      9   \n",
       "693         TERRADA                         GAONA AV. y TERRADA     11   \n",
       "694             NaN                         PERON, EVA AV. 4071      9   \n",
       "695             NaN                     PADRE CARLOS MUGICA 709      1   \n",
       "\n",
       "                                   XY (CABA)         pos x         pos y  \\\n",
       "690  Point (105258.35368554 102122.93231400)  -58.40596860  -34.61011987   \n",
       "691   Point (102728.60090138 98186.24929177)  -58.43353773  -34.64561636   \n",
       "692    Point (99624.29795829 97569.69801131)  -58.46739825  -34.65117757   \n",
       "693   Point (99116.45492358 101045.23284826)  -58.47293407  -34.61984745   \n",
       "694    Point (99324.54463985 97676.26932409)  -58.47066794  -34.65021673   \n",
       "695  Point (107664.16647795 104708.63962087)  -58.37976155  -34.58679619   \n",
       "\n",
       "      PARTICIPANTES    VICTIMA ACUSADO  \n",
       "690     PEATON-AUTO     PEATON    AUTO  \n",
       "691       MOTO-AUTO       MOTO    AUTO  \n",
       "692       MOTO-AUTO       MOTO    AUTO  \n",
       "693     MOTO-CARGAS       MOTO  CARGAS  \n",
       "694     AUTO-CARGAS       AUTO  CARGAS  \n",
       "695  BICICLETA-AUTO  BICICLETA    AUTO  \n",
       "\n",
       "[6 rows x 21 columns]"
      ]
     },
     "execution_count": 3,
     "metadata": {},
     "output_type": "execute_result"
    }
   ],
   "source": [
    "df_hechos = pd.read_excel('Datasets\\homicidios.xlsx',sheet_name = 'HECHOS')\n",
    "\n",
    "df_hechos.tail(6)"
   ]
  },
  {
   "cell_type": "code",
   "execution_count": 4,
   "metadata": {},
   "outputs": [
    {
     "name": "stdout",
     "output_type": "stream",
     "text": [
      "<class 'pandas.core.frame.DataFrame'>\n",
      "RangeIndex: 696 entries, 0 to 695\n",
      "Data columns (total 21 columns):\n",
      " #   Column                 Non-Null Count  Dtype         \n",
      "---  ------                 --------------  -----         \n",
      " 0   ID                     696 non-null    object        \n",
      " 1   N_VICTIMAS             696 non-null    int64         \n",
      " 2   FECHA                  696 non-null    datetime64[ns]\n",
      " 3   AAAA                   696 non-null    int64         \n",
      " 4   MM                     696 non-null    int64         \n",
      " 5   DD                     696 non-null    int64         \n",
      " 6   HORA                   696 non-null    object        \n",
      " 7   HH                     696 non-null    object        \n",
      " 8   LUGAR_DEL_HECHO        696 non-null    object        \n",
      " 9   TIPO_DE_CALLE          696 non-null    object        \n",
      " 10  Calle                  695 non-null    object        \n",
      " 11  Altura                 129 non-null    float64       \n",
      " 12  Cruce                  525 non-null    object        \n",
      " 13  Dirección Normalizada  688 non-null    object        \n",
      " 14  COMUNA                 696 non-null    int64         \n",
      " 15  XY (CABA)              696 non-null    object        \n",
      " 16  pos x                  696 non-null    object        \n",
      " 17  pos y                  696 non-null    object        \n",
      " 18  PARTICIPANTES          696 non-null    object        \n",
      " 19  VICTIMA                696 non-null    object        \n",
      " 20  ACUSADO                696 non-null    object        \n",
      "dtypes: datetime64[ns](1), float64(1), int64(5), object(14)\n",
      "memory usage: 114.3+ KB\n"
     ]
    }
   ],
   "source": [
    "df_hechos.info()"
   ]
  },
  {
   "cell_type": "markdown",
   "metadata": {},
   "source": [
    "Observando en dataframe **df_hechos** podemos ver que contamos con 21 columnas, que cuentan con un total de registros de 696 datos,este dataframe tiene toda la información relacionada con el siniestro vial, desde la identificación del hecho vial (**ID**) hasta el conocimiento del vehículo con el cual sucedió el hecho (**ACUSADO**).\n",
    "\n",
    "También podemos observar que las columnas con más nulos son **Altura** y **Cruce** esto se debe si observas atentamente que cada una indica si el siniestro ocurrio en una altura o un cruce pero ambas se encuentran juntas en la columna **Dirección Normalizada** por lo cual procedo a eliminarlas."
   ]
  },
  {
   "cell_type": "code",
   "execution_count": 5,
   "metadata": {},
   "outputs": [],
   "source": [
    "#Eliminacion de columna 'Altura'\n",
    "df_hechos.drop(columns=['Altura','Cruce'],inplace=True)"
   ]
  },
  {
   "cell_type": "markdown",
   "metadata": {},
   "source": [
    "En la siguiente celda crearé dos gráficas que me identifique en que *tipo de ubicacion* ocurrio el siniestro, sí se dio en un 'cruce' o en una 'altura' a demás de obsevar el *tipo de calle*."
   ]
  },
  {
   "cell_type": "code",
   "execution_count": 6,
   "metadata": {},
   "outputs": [
    {
     "data": {
      "image/png": "[encoded data removed]",
      "text/plain": [
       "<Figure size 1600x600 with 2 Axes>"
      ]
     },
     "metadata": {},
     "output_type": "display_data"
    }
   ],
   "source": [
    "# Asegurarse de que todos los valores en la columna 'Ubicacion' sean cadenas de texto\n",
    "df_hechos['Dirección Normalizada'] = df_hechos['Dirección Normalizada'].astype(str)\n",
    "\n",
    "# Crear una nueva columna que identifique si es cruce o altura\n",
    "df_hechos['Tipo'] = df_hechos['Dirección Normalizada'].apply(lambda x: 'Cruce' if ' y ' in x else 'Altura')\n",
    "\n",
    "# Contar la cantidad de registros de cada tipo\n",
    "conteo_tipos = df_hechos['Tipo'].value_counts()\n",
    "\n",
    "# Crear las gráficas compartiendo el eje y\n",
    "fig, axes = plt.subplots(1, 2, figsize=(16, 6), sharey=True)\n",
    "fig.suptitle('Cantidad de Siniestros', fontsize=16)\n",
    "\n",
    "# Primera gráfica\n",
    "conteo_tipos.plot(kind='bar', ax=axes[0], color=['red', 'orange'])\n",
    "axes[0].set_xlabel('Tipo de Ubicación',fontsize=14)\n",
    "axes[0].set_ylabel('Cantidad de víctimas',fontsize=14)\n",
    "axes[0].set_xticklabels(axes[0].get_xticklabels(), rotation=0)\n",
    "\n",
    "# Agregar el número de siniestros encima de las barras de la primera gráfica\n",
    "for p in axes[0].patches:\n",
    "    axes[0].annotate(str(int(p.get_height())), (p.get_x() + p.get_width() / 2., p.get_height()),\n",
    "                     ha=\"center\", va=\"center\", xytext=(0, 12), textcoords=\"offset points\", fontsize=12)\n",
    "\n",
    "# Segunda gráfica\n",
    "ax = sns.countplot(x=df_hechos['TIPO_DE_CALLE'], palette='inferno', ax=axes[1])\n",
    "axes[1].set_xlabel('Tipo de Calle',fontsize=14)\n",
    "axes[1].set_ylabel('')\n",
    "\n",
    "# Agregar el número de siniestros encima de las barras de la segunda gráfica\n",
    "for p in ax.patches:\n",
    "    color = p.get_facecolor()  # Obtener el color de la barra\n",
    "    ax.annotate(str(int(p.get_height())), (p.get_x() + p.get_width() / 2., p.get_height()),\n",
    "                 ha=\"center\", va=\"center\", xytext=(0, 12), textcoords=\"offset points\", fontsize=12, color=color)\n",
    "\n",
    "# Ajustar el límite del eje y si es necesario\n",
    "axes[0].set_ylim(0, 575)\n",
    "\n",
    "# Mostrar el gráfico\n",
    "plt.show()"
   ]
  },
  {
   "cell_type": "markdown",
   "metadata": {},
   "source": [
    "Con la primera gráfica(izquierda) podemos concluir que la mayor cantidad de accidentes ocurren en en las intercepciones(donde se unen dos avenidas, se une una calle y una avenidad,etc), lo cual no es de extrañar porque en estos puntos entran varias conocimientos en juego, como podria ser la señalización, un punto siego...\n",
    "\n",
    "Se puede observar en la segunda gráfica(derecha) que la mayor parte de los siniestros ocurren en las avenidas yá que esta es una via muy importante porque es la comunicación de la ciudad con el asentamiento urbano, es decir, es la arteria, si o si para llegar a otros lugares te vez obligado a transitar por allí.La otra cantidad de siniestros importantes las aporta las calles que es donde interactuan los automoviles y las personas, ya que las calles pertenecen a los barrios.\n",
    "\n",
    "Como conclusión y en comparación con las calles nuestro foco y todas las enérgias gubernamentales se tienen que concentrar en disminuir la alta accidentalidad en las avenidas, disminuyendo su velocidad ya que como se pudo observar en el *Plan de Seguridad Vial de la Ciudad 2016-2019* el 80% de víctimas fatales ocurren con una velocidad asociada a los 60 km/h  y disminuye a la mitad solo mermando la velocidad en a 45 km/h.El gobierno deberá disminuir su velocidad en las vías principales y enfocarse en los cruces."
   ]
  },
  {
   "cell_type": "markdown",
   "metadata": {},
   "source": [
    "Continuando con un analisis detallista pude observar que las columnas **LUGAR_DEL_HECHO** y **Calle** no son relevantes para nuestro objectivo ya que 'Lugar del hecho' entra muy al detalle y 'Calle' nos provee el nombre del lugar vial donde ocurrio el siniestro.La informacion relevante la podemos y util para nuestro objetivo la podemos encontrar en la columna **TIPO_DE_CALLE**. Dicho esto procederé a eliminar.\n",
    "\n",
    "También las columnas **AAAA**, **MM**,**DD**, **HH** procederé a eliminarlas ya que FECHA  contiene esas tres,e eliminaré **HH** ya que **HORA** entra  al detalle."
   ]
  },
  {
   "cell_type": "code",
   "execution_count": 7,
   "metadata": {},
   "outputs": [],
   "source": [
    "df_hechos.drop(columns=['AAAA','HH','MM','DD','LUGAR_DEL_HECHO','Calle'],inplace=True)"
   ]
  },
  {
   "cell_type": "markdown",
   "metadata": {},
   "source": [
    "Luego de toda esta limpieza observaremos con cuantas columnas hemos quedado."
   ]
  },
  {
   "cell_type": "code",
   "execution_count": 8,
   "metadata": {},
   "outputs": [
    {
     "data": {
      "text/plain": [
       "(696, 14)"
      ]
     },
     "execution_count": 8,
     "metadata": {},
     "output_type": "execute_result"
    }
   ],
   "source": [
    "df_hechos.shape"
   ]
  },
  {
   "cell_type": "code",
   "execution_count": 9,
   "metadata": {},
   "outputs": [
    {
     "data": {
      "text/html": [
       "<div>\n",
       "<style scoped>\n",
       "    .dataframe tbody tr th:only-of-type {\n",
       "        vertical-align: middle;\n",
       "    }\n",
       "\n",
       "    .dataframe tbody tr th {\n",
       "        vertical-align: top;\n",
       "    }\n",
       "\n",
       "    .dataframe thead th {\n",
       "        text-align: right;\n",
       "    }\n",
       "</style>\n",
       "<table border=\"1\" class=\"dataframe\">\n",
       "  <thead>\n",
       "    <tr style=\"text-align: right;\">\n",
       "      <th></th>\n",
       "      <th>N_VICTIMAS</th>\n",
       "      <th>FECHA</th>\n",
       "      <th>COMUNA</th>\n",
       "    </tr>\n",
       "  </thead>\n",
       "  <tbody>\n",
       "    <tr>\n",
       "      <th>count</th>\n",
       "      <td>696.000000</td>\n",
       "      <td>696</td>\n",
       "      <td>696.000000</td>\n",
       "    </tr>\n",
       "    <tr>\n",
       "      <th>mean</th>\n",
       "      <td>1.030172</td>\n",
       "      <td>2018-09-14 05:12:24.827586048</td>\n",
       "      <td>7.425287</td>\n",
       "    </tr>\n",
       "    <tr>\n",
       "      <th>min</th>\n",
       "      <td>1.000000</td>\n",
       "      <td>2016-01-01 00:00:00</td>\n",
       "      <td>0.000000</td>\n",
       "    </tr>\n",
       "    <tr>\n",
       "      <th>25%</th>\n",
       "      <td>1.000000</td>\n",
       "      <td>2017-04-02 12:00:00</td>\n",
       "      <td>4.000000</td>\n",
       "    </tr>\n",
       "    <tr>\n",
       "      <th>50%</th>\n",
       "      <td>1.000000</td>\n",
       "      <td>2018-07-12 12:00:00</td>\n",
       "      <td>8.000000</td>\n",
       "    </tr>\n",
       "    <tr>\n",
       "      <th>75%</th>\n",
       "      <td>1.000000</td>\n",
       "      <td>2020-01-04 06:00:00</td>\n",
       "      <td>11.000000</td>\n",
       "    </tr>\n",
       "    <tr>\n",
       "      <th>max</th>\n",
       "      <td>3.000000</td>\n",
       "      <td>2021-12-30 00:00:00</td>\n",
       "      <td>15.000000</td>\n",
       "    </tr>\n",
       "    <tr>\n",
       "      <th>std</th>\n",
       "      <td>0.179393</td>\n",
       "      <td>NaN</td>\n",
       "      <td>4.387050</td>\n",
       "    </tr>\n",
       "  </tbody>\n",
       "</table>\n",
       "</div>"
      ],
      "text/plain": [
       "       N_VICTIMAS                          FECHA      COMUNA\n",
       "count  696.000000                            696  696.000000\n",
       "mean     1.030172  2018-09-14 05:12:24.827586048    7.425287\n",
       "min      1.000000            2016-01-01 00:00:00    0.000000\n",
       "25%      1.000000            2017-04-02 12:00:00    4.000000\n",
       "50%      1.000000            2018-07-12 12:00:00    8.000000\n",
       "75%      1.000000            2020-01-04 06:00:00   11.000000\n",
       "max      3.000000            2021-12-30 00:00:00   15.000000\n",
       "std      0.179393                            NaN    4.387050"
      ]
     },
     "execution_count": 9,
     "metadata": {},
     "output_type": "execute_result"
    }
   ],
   "source": [
    "df_hechos.describe()"
   ]
  },
  {
   "cell_type": "markdown",
   "metadata": {},
   "source": [
    "Haciendo un despliege del dataframe con el método *describe()*, podemos ver que la cantidad de víctimas son mínimo 1 y máximo 3, tenemos registro de los siniestros viales desde el año 2016 hasta 2021, los meses completos, los días también y las comunas que van desde la comuna 0 hasta la comuna 15.En base a esta observación haremos diferentes gráficas."
   ]
  },
  {
   "cell_type": "code",
   "execution_count": 10,
   "metadata": {},
   "outputs": [
    {
     "data": {
      "image/png": "[encoded data removed]",
      "text/plain": [
       "<Figure size 640x480 with 1 Axes>"
      ]
     },
     "metadata": {},
     "output_type": "display_data"
    }
   ],
   "source": [
    "#Gráfica que muestra la cantidad de victimas por accidente\n",
    "colors=('#EC1C1C','#53FF45','#BFC8AD')\n",
    "ax=sns.countplot(x=df_hechos['N_VICTIMAS'], palette= colors)\n",
    "\n",
    "# Agregar el total en la parte superior de las barras con texto ajustable\n",
    "for p in ax.patches:\n",
    "    ax.annotate(str(int(p.get_height())), (p.get_x() + p.get_width() / 2., p.get_height()),\n",
    "                 ha=\"center\", va=\"center\", xytext=(0, 10), textcoords=\"offset points\")\n",
    "    \n",
    "plt.title('Víctimas por Accidente')  \n",
    "plt.xlabel('Número de Víctimas') \n",
    "plt.ylabel('Cantidad de víctimas')\n",
    "plt.ylim(0,800)\n",
    "plt.show() "
   ]
  },
  {
   "cell_type": "markdown",
   "metadata": {},
   "source": [
    "Podemos ver en esta gráfica que por fortuna si asi se puede decir la mayoria de siniestros viales solo deja una victima, es muy raro que se presenten mas victimas y casi estraordinario cuando las victimas mortales son tres."
   ]
  },
  {
   "cell_type": "markdown",
   "metadata": {},
   "source": [
    "Ahora veremos la cantidad de victimas morteles por año."
   ]
  },
  {
   "cell_type": "code",
   "execution_count": 11,
   "metadata": {},
   "outputs": [
    {
     "data": {
      "image/png": "[encoded data removed]",
      "text/plain": [
       "<Figure size 640x480 with 1 Axes>"
      ]
     },
     "metadata": {},
     "output_type": "display_data"
    }
   ],
   "source": [
    "# Gráfico de barras para visualizar la cantidad de fatalidades por año\n",
    "ax=sns.countplot(x=df_hechos['FECHA'].dt.year, palette='inferno')\n",
    "\n",
    "# Ajustar las etiquetas y el título\n",
    "plt.title('Cantidad de Muertes por Año', fontsize=16)\n",
    "plt.xlabel('Año', fontsize=12)\n",
    "plt.ylabel('Cantidad de Muertes', fontsize=12)\n",
    "\n",
    "# Agregar el número de fatalidades dentro de cada barra con el color de la barra\n",
    "for p in ax.patches:\n",
    "    color = p.get_facecolor()  # Obtener el color de la barra\n",
    "    ax.annotate(str(int(p.get_height())), (p.get_x() + p.get_width() / 2., p.get_height()),\n",
    "                 ha=\"center\", va=\"center\", xytext=(0, 10), textcoords=\"offset points\", fontsize=10, color=color)\n",
    "\n",
    "# Mostrar el gráfico\n",
    "plt.ylim(0,200)\n",
    "plt.show()"
   ]
  },
  {
   "cell_type": "markdown",
   "metadata": {},
   "source": [
    "Podemos ver una disminución de víctimas fatales para los años 2019 hasta el 2021 que si analizamos profundamente no es significativo porque en este lapso de tiempo se vivió la pandemia mundial y se hubiera esperado una disminuición sustancial en víctimas de accidentes viales, incluso se observa que para el año 2021 empezó a haber un incremento, lo cual nos diría que la gente empezó a salir más y retomar una vida normal como la que se vivia antes de pandemia."
   ]
  },
  {
   "cell_type": "markdown",
   "metadata": {},
   "source": [
    "En la siguiente gráfica observaremos el comportamiento de los meses en relacion con los años 2016 y 2017 "
   ]
  },
  {
   "cell_type": "code",
   "execution_count": 12,
   "metadata": {},
   "outputs": [
    {
     "data": {
      "text/plain": [
       "<matplotlib.legend.Legend at 0x1b4c111bf50>"
      ]
     },
     "execution_count": 12,
     "metadata": {},
     "output_type": "execute_result"
    },
    {
     "data": {
      "image/png": "[encoded data removed]",
      "text/plain": [
       "<Figure size 1000x600 with 1 Axes>"
      ]
     },
     "metadata": {},
     "output_type": "display_data"
    }
   ],
   "source": [
    "# Convertir la columna 'Fecha' a datetime\n",
    "df_hechos['FECHA'] = pd.to_datetime(df_hechos['FECHA'])\n",
    "\n",
    "# Filtrar los datos para los años 2016 y 2017\n",
    "df_filtered = df_hechos[(df_hechos['FECHA'].dt.year == 2017) | (df_hechos['FECHA'].dt.year == 2018) | (df_hechos['FECHA'].dt.year == 2019)]\n",
    "\n",
    "# Extraer el mes y el año\n",
    "df_filtered['Año'] = df_filtered['FECHA'].dt.year\n",
    "df_filtered['Mes'] = df_filtered['FECHA'].dt.month\n",
    "\n",
    "# Agrupar por año y mes y sumar los fallecidos\n",
    "df_grouped = df_filtered.groupby(['Año', 'Mes'])['N_VICTIMAS'].sum().reset_index()\n",
    "\n",
    "# Pivotar los datos para tener una columna para cada año\n",
    "df_pivot = df_grouped.pivot(index='Mes', columns='Año', values='N_VICTIMAS')\n",
    "\n",
    "# Crear la gráfica comparativa\n",
    "plt.figure(figsize=(10, 6))\n",
    "df_pivot.plot(kind='bar', ax=plt.gca(), width=0.8)\n",
    "plt.title('Cantidad de Fallecidos por Mes en 2017, 2018 y 2019')\n",
    "plt.xlabel('Mes')\n",
    "plt.ylabel('Cantidad de Fallecidos')\n",
    "plt.legend(title='Año')\n",
    "#plt.xticks(rotation=0)"
   ]
  },
  {
   "cell_type": "markdown",
   "metadata": {},
   "source": [
    "Viendo la distribución por mes de los años 2017, 2018 y 2019, se pudo observar que casi en todos los meses de los años 2017 y 2018 se mantiene la misma tendencia en el número de víctimas fatales. En el año 2019, hubo una disminución, y esto se podría deber al hecho del inicio de la pandemia.\n",
    "\n",
    "Yendo un poco más a fondo, se observó el *Plan de Seguridad Vial de la Ciudad 2016-2019* de Argentina y su meta, que era \"reducir en un 30% las víctimas fatales por siniestros viales para 2019\". Yo diría que fracasarón, yá que, si bien es cierto que para el año 2019 hubo una tendencia a la baja, ésta es perfectamente justificable debido a la pandemia. Sin embargo, en los años 2017 y 2018 hubo picos que arruinaron este propósito."
   ]
  },
  {
   "cell_type": "markdown",
   "metadata": {},
   "source": [
    "En la próxima gráfica observaremos cuales son los días de la semana más críticos de la semana tomando todos los años que tenemos."
   ]
  },
  {
   "cell_type": "code",
   "execution_count": 13,
   "metadata": {},
   "outputs": [
    {
     "data": {
      "image/png": "[encoded data removed]",
      "text/plain": [
       "<Figure size 1000x600 with 1 Axes>"
      ]
     },
     "metadata": {},
     "output_type": "display_data"
    }
   ],
   "source": [
    "# Filtrar los datos para los años 2016 a 2021\n",
    "df_filtered = df_hechos[(df_hechos['FECHA'].dt.year >= 2016) & (df_hechos['FECHA'].dt.year <= 2021)]\n",
    "\n",
    "# Extraer el día de la semana en español\n",
    "dias_semana_es = {0: 'lunes', 1: 'martes', 2: 'miércoles', 3: 'jueves', 4: 'viernes', 5: 'sábado', 6: 'domingo'}\n",
    "\n",
    "df_filtered['DiaSemana'] = df_filtered['FECHA'].dt.dayofweek.map(dias_semana_es)\n",
    "\n",
    "# Agrupar por día de la semana y sumar los fallecidos\n",
    "df_grouped = df_filtered.groupby('DiaSemana')['N_VICTIMAS'].sum().reindex(dias_semana_es.values())\n",
    "\n",
    "# Crear la gráfica\n",
    "plt.figure(figsize=(10, 6))\n",
    "sns.lineplot(data=df_grouped, marker='o', color='blue')\n",
    "plt.title('Cantidad de Fallecidos por Día de la Semana (2016-2021)')\n",
    "plt.xlabel('Día de la Semana')\n",
    "plt.ylabel('Cantidad de Fallecidos por año')\n",
    "plt.xticks(rotation=0)\n",
    "plt.grid(True)\n",
    "plt.show()"
   ]
  },
  {
   "cell_type": "markdown",
   "metadata": {},
   "source": [
    "Se puede observar que los días pico de siniestralidad van desde el día viernes hasta el lunes, no es de extrañar ya que normalmente son los días de más actividad social, y que este implicado el lunes indica que se viene de un fin de semana que muchas veces se le prolonga a las personas hasta este día."
   ]
  },
  {
   "cell_type": "markdown",
   "metadata": {},
   "source": [
    "Por último para acabar con la columnas observadas en el *describe()* análizaremos la comuna con más siniestralidad vial."
   ]
  },
  {
   "cell_type": "code",
   "execution_count": 14,
   "metadata": {},
   "outputs": [
    {
     "data": {
      "image/png": "[encoded data removed]",
      "text/plain": [
       "<Figure size 800x400 with 1 Axes>"
      ]
     },
     "metadata": {},
     "output_type": "display_data"
    }
   ],
   "source": [
    "# Gráfico de barras para COMUNA\n",
    "plt.figure(figsize=(8, 4))\n",
    "df_hechos['COMUNA'].value_counts().sort_index().plot(kind='bar')\n",
    "plt.xlabel('Comuna')\n",
    "plt.ylabel('Cantidad de Víctimas')\n",
    "plt.title('Distribución de Siniestros por Comuna')\n",
    "plt.show()"
   ]
  },
  {
   "cell_type": "markdown",
   "metadata": {},
   "source": [
    "Podemos observar que hay aprox 6 ó 7 comunas las que resultan mas afectadas en el tema de siniestralidad vial, en la proxima gráfica observaremos el porcentaje que aportan estas comunas y profundizaremos en la razón de porque son estas las que mas víctimas aportan."
   ]
  },
  {
   "cell_type": "code",
   "execution_count": 15,
   "metadata": {},
   "outputs": [
    {
     "name": "stdout",
     "output_type": "stream",
     "text": [
      "        Cantidad de Incidentes      %\n",
      "COMUNA                               \n",
      "1                           90  12.93\n",
      "4                           76  10.92\n",
      "9                           73  10.49\n",
      "8                           65   9.34\n",
      "7                           60   8.62\n",
      "3                           45   6.47\n",
      "15                          44   6.32\n",
      "13                          40   5.75\n",
      "12                          37   5.32\n",
      "14                          35   5.03\n",
      "11                          32   4.60\n",
      "10                          29   4.17\n",
      "2                           25   3.59\n",
      "5                           22   3.16\n",
      "6                           21   3.02\n",
      "0                            2   0.29\n"
     ]
    }
   ],
   "source": [
    "# Obtener la cuenta de incidentes por comuna\n",
    "comuna_counts = df_hechos['COMUNA'].value_counts().sort_index()\n",
    "\n",
    "# Calcular los porcentajes\n",
    "total_incidentes = comuna_counts.sum()\n",
    "porcentajes = (comuna_counts / total_incidentes * 100).round(2)\n",
    "\n",
    "# Crear un DataFrame con las cantidades y porcentajes\n",
    "tabla_comuna = pd.DataFrame({ 'Cantidad de Incidentes': comuna_counts, '%': porcentajes})\n",
    "\n",
    "# Ordenar la tabla descendentemente por la columna '%'\n",
    "tabla_comuna = tabla_comuna.sort_values(by='%', ascending=False)\n",
    "\n",
    "# Mostrar la tabla ordenada\n",
    "print(tabla_comuna)"
   ]
  },
  {
   "cell_type": "markdown",
   "metadata": {},
   "source": [
    "![Esta es una descripción de la imagen](Datasets/Mapa-ciudad-de-buenos-aires.jpg)"
   ]
  },
  {
   "cell_type": "markdown",
   "metadata": {},
   "source": [
    "Se puede observar que la comunas mas grandes en la coordenadas suroestes cercanas al puerto son las que más víctimas presentan, como son la comuna 1, comuna 4.La comuna 8 y 9 que son las que siguen en porcentaje tienen una avenidad, la comuna 9 a la av.General Paz y la comuna 8 la av.27 de Febrero, lo cual concuerda con la tasa alta de siniestralidad presentada en las avenidas ya que las demas comunas tambien son lindadas por avenidas, el unico caso extraño sería la comuna 3 que es mas pequeña y con menos barrios pero se puede observar que esta en medio de las comunas 1 y 4 los cual seria valido para decir que este es un punto abligado para muchos que quieran salir o entrar de siertos barrios de la comuna 1."
   ]
  },
  {
   "cell_type": "markdown",
   "metadata": {},
   "source": [
    "Ahora analizaremos las columnas de **ACUSADO** y **VICTIMA** para observar que tipo de vehiculo en que se causa los siniestros y cuales son las victimas."
   ]
  },
  {
   "cell_type": "code",
   "execution_count": 16,
   "metadata": {},
   "outputs": [
    {
     "data": {
      "text/html": [
       "<div>\n",
       "<style scoped>\n",
       "    .dataframe tbody tr th:only-of-type {\n",
       "        vertical-align: middle;\n",
       "    }\n",
       "\n",
       "    .dataframe tbody tr th {\n",
       "        vertical-align: top;\n",
       "    }\n",
       "\n",
       "    .dataframe thead th {\n",
       "        text-align: right;\n",
       "    }\n",
       "</style>\n",
       "<table border=\"1\" class=\"dataframe\">\n",
       "  <thead>\n",
       "    <tr style=\"text-align: right;\">\n",
       "      <th>ACUSADO</th>\n",
       "      <th>AUTO</th>\n",
       "      <th>BICICLETA</th>\n",
       "      <th>CARGAS</th>\n",
       "      <th>MOTO</th>\n",
       "      <th>MULTIPLE</th>\n",
       "      <th>OBJETO FIJO</th>\n",
       "      <th>OTRO</th>\n",
       "      <th>PASAJEROS</th>\n",
       "      <th>SD</th>\n",
       "      <th>TREN</th>\n",
       "    </tr>\n",
       "    <tr>\n",
       "      <th>VICTIMA</th>\n",
       "      <th></th>\n",
       "      <th></th>\n",
       "      <th></th>\n",
       "      <th></th>\n",
       "      <th></th>\n",
       "      <th></th>\n",
       "      <th></th>\n",
       "      <th></th>\n",
       "      <th></th>\n",
       "      <th></th>\n",
       "    </tr>\n",
       "  </thead>\n",
       "  <tbody>\n",
       "    <tr>\n",
       "      <th>AUTO</th>\n",
       "      <td>31</td>\n",
       "      <td>0</td>\n",
       "      <td>14</td>\n",
       "      <td>0</td>\n",
       "      <td>3</td>\n",
       "      <td>21</td>\n",
       "      <td>1</td>\n",
       "      <td>9</td>\n",
       "      <td>4</td>\n",
       "      <td>0</td>\n",
       "    </tr>\n",
       "    <tr>\n",
       "      <th>BICICLETA</th>\n",
       "      <td>8</td>\n",
       "      <td>0</td>\n",
       "      <td>10</td>\n",
       "      <td>0</td>\n",
       "      <td>1</td>\n",
       "      <td>0</td>\n",
       "      <td>1</td>\n",
       "      <td>8</td>\n",
       "      <td>0</td>\n",
       "      <td>1</td>\n",
       "    </tr>\n",
       "    <tr>\n",
       "      <th>CARGAS</th>\n",
       "      <td>1</td>\n",
       "      <td>0</td>\n",
       "      <td>4</td>\n",
       "      <td>0</td>\n",
       "      <td>0</td>\n",
       "      <td>1</td>\n",
       "      <td>0</td>\n",
       "      <td>1</td>\n",
       "      <td>0</td>\n",
       "      <td>0</td>\n",
       "    </tr>\n",
       "    <tr>\n",
       "      <th>MOTO</th>\n",
       "      <td>83</td>\n",
       "      <td>2</td>\n",
       "      <td>78</td>\n",
       "      <td>25</td>\n",
       "      <td>8</td>\n",
       "      <td>40</td>\n",
       "      <td>4</td>\n",
       "      <td>46</td>\n",
       "      <td>9</td>\n",
       "      <td>0</td>\n",
       "    </tr>\n",
       "    <tr>\n",
       "      <th>MOVIL</th>\n",
       "      <td>0</td>\n",
       "      <td>0</td>\n",
       "      <td>1</td>\n",
       "      <td>0</td>\n",
       "      <td>0</td>\n",
       "      <td>0</td>\n",
       "      <td>0</td>\n",
       "      <td>1</td>\n",
       "      <td>0</td>\n",
       "      <td>0</td>\n",
       "    </tr>\n",
       "    <tr>\n",
       "      <th>OBJETO FIJO</th>\n",
       "      <td>1</td>\n",
       "      <td>0</td>\n",
       "      <td>0</td>\n",
       "      <td>0</td>\n",
       "      <td>0</td>\n",
       "      <td>0</td>\n",
       "      <td>0</td>\n",
       "      <td>0</td>\n",
       "      <td>0</td>\n",
       "      <td>0</td>\n",
       "    </tr>\n",
       "    <tr>\n",
       "      <th>PASAJEROS</th>\n",
       "      <td>1</td>\n",
       "      <td>0</td>\n",
       "      <td>0</td>\n",
       "      <td>0</td>\n",
       "      <td>0</td>\n",
       "      <td>0</td>\n",
       "      <td>0</td>\n",
       "      <td>3</td>\n",
       "      <td>1</td>\n",
       "      <td>0</td>\n",
       "    </tr>\n",
       "    <tr>\n",
       "      <th>PEATON</th>\n",
       "      <td>77</td>\n",
       "      <td>5</td>\n",
       "      <td>38</td>\n",
       "      <td>30</td>\n",
       "      <td>5</td>\n",
       "      <td>0</td>\n",
       "      <td>0</td>\n",
       "      <td>105</td>\n",
       "      <td>4</td>\n",
       "      <td>0</td>\n",
       "    </tr>\n",
       "    <tr>\n",
       "      <th>PEATON_MOTO</th>\n",
       "      <td>0</td>\n",
       "      <td>0</td>\n",
       "      <td>0</td>\n",
       "      <td>1</td>\n",
       "      <td>0</td>\n",
       "      <td>0</td>\n",
       "      <td>0</td>\n",
       "      <td>0</td>\n",
       "      <td>0</td>\n",
       "      <td>0</td>\n",
       "    </tr>\n",
       "    <tr>\n",
       "      <th>SD</th>\n",
       "      <td>2</td>\n",
       "      <td>0</td>\n",
       "      <td>1</td>\n",
       "      <td>1</td>\n",
       "      <td>0</td>\n",
       "      <td>0</td>\n",
       "      <td>0</td>\n",
       "      <td>0</td>\n",
       "      <td>5</td>\n",
       "      <td>0</td>\n",
       "    </tr>\n",
       "  </tbody>\n",
       "</table>\n",
       "</div>"
      ],
      "text/plain": [
       "ACUSADO      AUTO  BICICLETA  CARGAS  MOTO  MULTIPLE  OBJETO FIJO  OTRO  \\\n",
       "VICTIMA                                                                   \n",
       "AUTO           31          0      14     0         3           21     1   \n",
       "BICICLETA       8          0      10     0         1            0     1   \n",
       "CARGAS          1          0       4     0         0            1     0   \n",
       "MOTO           83          2      78    25         8           40     4   \n",
       "MOVIL           0          0       1     0         0            0     0   \n",
       "OBJETO FIJO     1          0       0     0         0            0     0   \n",
       "PASAJEROS       1          0       0     0         0            0     0   \n",
       "PEATON         77          5      38    30         5            0     0   \n",
       "PEATON_MOTO     0          0       0     1         0            0     0   \n",
       "SD              2          0       1     1         0            0     0   \n",
       "\n",
       "ACUSADO      PASAJEROS  SD  TREN  \n",
       "VICTIMA                           \n",
       "AUTO                 9   4     0  \n",
       "BICICLETA            8   0     1  \n",
       "CARGAS               1   0     0  \n",
       "MOTO                46   9     0  \n",
       "MOVIL                1   0     0  \n",
       "OBJETO FIJO          0   0     0  \n",
       "PASAJEROS            3   1     0  \n",
       "PEATON             105   4     0  \n",
       "PEATON_MOTO          0   0     0  \n",
       "SD                   0   5     0  "
      ]
     },
     "execution_count": 16,
     "metadata": {},
     "output_type": "execute_result"
    }
   ],
   "source": [
    "tabla_contingencia = pd.crosstab(df_hechos['VICTIMA'], df_hechos['ACUSADO'])\n",
    "\n",
    "# Visualizar la tabla de contingencia\n",
    "tabla_contingencia"
   ]
  },
  {
   "cell_type": "markdown",
   "metadata": {},
   "source": [
    "* Podemos ver que cuando el acusado es Auto, la mayoria de las víctimas son autos, motos, y peatones.\n",
    "* Cuando el acusado es Cargas, las victimas son variadas; siendo Motos y Peatones los más afectados.\n",
    "* Cuando el acusado es Pasajeros, las víctimas son principalmente Peatones y Motos."
   ]
  },
  {
   "cell_type": "markdown",
   "metadata": {},
   "source": [
    "Le daremos una ultima mirada al dataframe."
   ]
  },
  {
   "cell_type": "code",
   "execution_count": 17,
   "metadata": {},
   "outputs": [
    {
     "data": {
      "text/html": [
       "<div>\n",
       "<style scoped>\n",
       "    .dataframe tbody tr th:only-of-type {\n",
       "        vertical-align: middle;\n",
       "    }\n",
       "\n",
       "    .dataframe tbody tr th {\n",
       "        vertical-align: top;\n",
       "    }\n",
       "\n",
       "    .dataframe thead th {\n",
       "        text-align: right;\n",
       "    }\n",
       "</style>\n",
       "<table border=\"1\" class=\"dataframe\">\n",
       "  <thead>\n",
       "    <tr style=\"text-align: right;\">\n",
       "      <th></th>\n",
       "      <th>ID</th>\n",
       "      <th>N_VICTIMAS</th>\n",
       "      <th>FECHA</th>\n",
       "      <th>HORA</th>\n",
       "      <th>TIPO_DE_CALLE</th>\n",
       "      <th>Dirección Normalizada</th>\n",
       "      <th>COMUNA</th>\n",
       "      <th>XY (CABA)</th>\n",
       "      <th>pos x</th>\n",
       "      <th>pos y</th>\n",
       "      <th>PARTICIPANTES</th>\n",
       "      <th>VICTIMA</th>\n",
       "      <th>ACUSADO</th>\n",
       "      <th>Tipo</th>\n",
       "    </tr>\n",
       "  </thead>\n",
       "  <tbody>\n",
       "    <tr>\n",
       "      <th>0</th>\n",
       "      <td>2016-0001</td>\n",
       "      <td>1</td>\n",
       "      <td>2016-01-01</td>\n",
       "      <td>04:00:00</td>\n",
       "      <td>AVENIDA</td>\n",
       "      <td>PIEDRA BUENA AV. y FERNANDEZ DE LA CRUZ, F., G...</td>\n",
       "      <td>8</td>\n",
       "      <td>Point (98896.78238426 93532.43437792)</td>\n",
       "      <td>-58.47533969</td>\n",
       "      <td>-34.68757022</td>\n",
       "      <td>MOTO-AUTO</td>\n",
       "      <td>MOTO</td>\n",
       "      <td>AUTO</td>\n",
       "      <td>Cruce</td>\n",
       "    </tr>\n",
       "    <tr>\n",
       "      <th>1</th>\n",
       "      <td>2016-0002</td>\n",
       "      <td>1</td>\n",
       "      <td>2016-01-02</td>\n",
       "      <td>01:15:00</td>\n",
       "      <td>GRAL PAZ</td>\n",
       "      <td>PAZ, GRAL. AV. y DE LOS CORRALES AV.</td>\n",
       "      <td>9</td>\n",
       "      <td>Point (95832.05571093 95505.41641999)</td>\n",
       "      <td>-58.50877521</td>\n",
       "      <td>-34.66977709</td>\n",
       "      <td>AUTO-PASAJEROS</td>\n",
       "      <td>AUTO</td>\n",
       "      <td>PASAJEROS</td>\n",
       "      <td>Cruce</td>\n",
       "    </tr>\n",
       "    <tr>\n",
       "      <th>2</th>\n",
       "      <td>2016-0003</td>\n",
       "      <td>1</td>\n",
       "      <td>2016-01-03</td>\n",
       "      <td>07:00:00</td>\n",
       "      <td>AVENIDA</td>\n",
       "      <td>ENTRE RIOS AV. 2034</td>\n",
       "      <td>1</td>\n",
       "      <td>Point (106684.29090040 99706.57687843)</td>\n",
       "      <td>-58.39040293</td>\n",
       "      <td>-34.63189362</td>\n",
       "      <td>MOTO-AUTO</td>\n",
       "      <td>MOTO</td>\n",
       "      <td>AUTO</td>\n",
       "      <td>Altura</td>\n",
       "    </tr>\n",
       "  </tbody>\n",
       "</table>\n",
       "</div>"
      ],
      "text/plain": [
       "          ID  N_VICTIMAS      FECHA      HORA TIPO_DE_CALLE  \\\n",
       "0  2016-0001           1 2016-01-01  04:00:00       AVENIDA   \n",
       "1  2016-0002           1 2016-01-02  01:15:00      GRAL PAZ   \n",
       "2  2016-0003           1 2016-01-03  07:00:00       AVENIDA   \n",
       "\n",
       "                               Dirección Normalizada  COMUNA  \\\n",
       "0  PIEDRA BUENA AV. y FERNANDEZ DE LA CRUZ, F., G...       8   \n",
       "1               PAZ, GRAL. AV. y DE LOS CORRALES AV.       9   \n",
       "2                                ENTRE RIOS AV. 2034       1   \n",
       "\n",
       "                                XY (CABA)         pos x         pos y  \\\n",
       "0   Point (98896.78238426 93532.43437792)  -58.47533969  -34.68757022   \n",
       "1   Point (95832.05571093 95505.41641999)  -58.50877521  -34.66977709   \n",
       "2  Point (106684.29090040 99706.57687843)  -58.39040293  -34.63189362   \n",
       "\n",
       "    PARTICIPANTES VICTIMA    ACUSADO    Tipo  \n",
       "0       MOTO-AUTO    MOTO       AUTO   Cruce  \n",
       "1  AUTO-PASAJEROS    AUTO  PASAJEROS   Cruce  \n",
       "2       MOTO-AUTO    MOTO       AUTO  Altura  "
      ]
     },
     "execution_count": 17,
     "metadata": {},
     "output_type": "execute_result"
    }
   ],
   "source": [
    "df_hechos.head(3)"
   ]
  },
  {
   "cell_type": "markdown",
   "metadata": {},
   "source": [
    "Dandole una Última mirada a el dataframe decidi sacar las columnas **XY (CABA)** y **PARTICIPANTES** yá que la primera señala el punto exácto donde ocurre el siníestro y con las columnas de coordenadas(**pos x**,**pos y**) puedo hacer un analisis posterior, la segunda columna eliminada es porque es la combinación de las columnas **VICTIMA** y **ACUSADO**."
   ]
  },
  {
   "cell_type": "code",
   "execution_count": 18,
   "metadata": {},
   "outputs": [],
   "source": [
    "df_hechos.drop(columns=['XY (CABA)','PARTICIPANTES'],inplace=True)"
   ]
  },
  {
   "cell_type": "markdown",
   "metadata": {},
   "source": [
    "Se observa el formato final de las columnas."
   ]
  },
  {
   "cell_type": "code",
   "execution_count": 19,
   "metadata": {},
   "outputs": [
    {
     "name": "stdout",
     "output_type": "stream",
     "text": [
      "<class 'pandas.core.frame.DataFrame'>\n",
      "RangeIndex: 696 entries, 0 to 695\n",
      "Data columns (total 12 columns):\n",
      " #   Column                 Non-Null Count  Dtype         \n",
      "---  ------                 --------------  -----         \n",
      " 0   ID                     696 non-null    object        \n",
      " 1   N_VICTIMAS             696 non-null    int64         \n",
      " 2   FECHA                  696 non-null    datetime64[ns]\n",
      " 3   HORA                   696 non-null    object        \n",
      " 4   TIPO_DE_CALLE          696 non-null    object        \n",
      " 5   Dirección Normalizada  696 non-null    object        \n",
      " 6   COMUNA                 696 non-null    int64         \n",
      " 7   pos x                  696 non-null    object        \n",
      " 8   pos y                  696 non-null    object        \n",
      " 9   VICTIMA                696 non-null    object        \n",
      " 10  ACUSADO                696 non-null    object        \n",
      " 11  Tipo                   696 non-null    object        \n",
      "dtypes: datetime64[ns](1), int64(2), object(9)\n",
      "memory usage: 65.4+ KB\n"
     ]
    }
   ],
   "source": [
    "df_hechos.info()"
   ]
  },
  {
   "cell_type": "markdown",
   "metadata": {},
   "source": [
    "Observando la columna de **HORA**, **pos x** y **pos y** puedo ver que son de tipo object y decido darled el formato correcto."
   ]
  },
  {
   "cell_type": "code",
   "execution_count": 20,
   "metadata": {},
   "outputs": [
    {
     "data": {
      "text/plain": [
       "375"
      ]
     },
     "execution_count": 20,
     "metadata": {},
     "output_type": "execute_result"
    }
   ],
   "source": [
    "df_hechos['HORA'].nunique()"
   ]
  },
  {
   "cell_type": "markdown",
   "metadata": {},
   "source": [
    "Observando el resultado arrojado por el metodo *nunique()* puedo inferir que a parte del el formato de hora tiene una filas con otro tipo de formato.\n",
    "\n",
    "Por lo tanto voy a corregir para tener un mismo formato"
   ]
  },
  {
   "cell_type": "code",
   "execution_count": 21,
   "metadata": {},
   "outputs": [],
   "source": [
    "df_hechos['HORA'] = df_hechos['HORA'].replace('SD', np.nan)\n",
    "df_hechos['HORA'] = pd.to_datetime(df_hechos['HORA'], format='%H:%M:%S')"
   ]
  },
  {
   "cell_type": "markdown",
   "metadata": {},
   "source": [
    "Al cambiar las columnas de las coordenadas, voy a forzar los datos que sean del tipo diferente a fecha para no tener errores.Al final se que voy a quedar con algunos nulos pero espero no me afecten."
   ]
  },
  {
   "cell_type": "code",
   "execution_count": 22,
   "metadata": {},
   "outputs": [],
   "source": [
    "df_hechos['pos x'] = pd.to_numeric(df_hechos['pos x'], errors='coerce')\n",
    "df_hechos['pos y'] = pd.to_numeric(df_hechos['pos y'], errors='coerce')"
   ]
  },
  {
   "cell_type": "code",
   "execution_count": 23,
   "metadata": {},
   "outputs": [
    {
     "name": "stdout",
     "output_type": "stream",
     "text": [
      "<class 'pandas.core.frame.DataFrame'>\n",
      "RangeIndex: 696 entries, 0 to 695\n",
      "Data columns (total 12 columns):\n",
      " #   Column                 Non-Null Count  Dtype         \n",
      "---  ------                 --------------  -----         \n",
      " 0   ID                     696 non-null    object        \n",
      " 1   N_VICTIMAS             696 non-null    int64         \n",
      " 2   FECHA                  696 non-null    datetime64[ns]\n",
      " 3   HORA                   695 non-null    datetime64[ns]\n",
      " 4   TIPO_DE_CALLE          696 non-null    object        \n",
      " 5   Dirección Normalizada  696 non-null    object        \n",
      " 6   COMUNA                 696 non-null    int64         \n",
      " 7   pos x                  684 non-null    float64       \n",
      " 8   pos y                  684 non-null    float64       \n",
      " 9   VICTIMA                696 non-null    object        \n",
      " 10  ACUSADO                696 non-null    object        \n",
      " 11  Tipo                   696 non-null    object        \n",
      "dtypes: datetime64[ns](2), float64(2), int64(2), object(6)\n",
      "memory usage: 65.4+ KB\n"
     ]
    }
   ],
   "source": [
    "df_hechos.info()"
   ]
  },
  {
   "cell_type": "code",
   "execution_count": 24,
   "metadata": {},
   "outputs": [],
   "source": [
    "df_hechos.to_csv('hechos.csv')"
   ]
  }
 ],
 "metadata": {
  "kernelspec": {
   "display_name": "Python 3",
   "language": "python",
   "name": "python3"
  },
  "language_info": {
   "codemirror_mode": {
    "name": "ipython",
    "version": 3
   },
   "file_extension": ".py",
   "mimetype": "text/x-python",
   "name": "python",
   "nbconvert_exporter": "python",
   "pygments_lexer": "ipython3",
   "version": "3.12.2"
  }
 },
 "nbformat": 4,
 "nbformat_minor": 2
}
